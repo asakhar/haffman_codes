{
 "cells": [
  {
   "cell_type": "code",
   "execution_count": 7,
   "metadata": {
    "scrolled": true
   },
   "outputs": [],
   "source": [
    "d = {}\n",
    "f = open('list.txt', 'r', encoding='utf-8')\n",
    "while (len(d) < 33):\n",
    "    a = [f.readline() for x in range(7)]\n",
    "    letter = f.readline().replace('\\n', '')\n",
    "    a = [f.readline() for x in range(3)]\n",
    "    freq = f.readline().replace('\\n', '')\n",
    "    d[letter] = freq\n",
    "f.close()\n",
    "d = {key:float(val.replace(',', '.'))/100 for key, val in d.items()}"
   ]
  },
  {
   "cell_type": "code",
   "execution_count": 8,
   "metadata": {},
   "outputs": [],
   "source": [
    "def sk(val):\n",
    "    return val[1]\n",
    "\n",
    "def unpack(s):\n",
    "    if not '(' in s:\n",
    "        return {s:''}\n",
    "    se = []\n",
    "    c = 0\n",
    "    st = 0\n",
    "    ret = {}\n",
    "    for i in range(len(s)):\n",
    "        if s[i] == '(':\n",
    "            if not c:\n",
    "                st = i\n",
    "            c += 1\n",
    "        elif s[i] == ')':\n",
    "            c -= 1\n",
    "            if not c:\n",
    "                se.append((st, i))\n",
    "    #print(se)\n",
    "    for i in range(len(se)):\n",
    "        for x, y in unpack(s[se[i][0]+1:se[i][1]]).items():\n",
    "            if i+1 == len(se):\n",
    "                ret[x] = y + str(s[se[i][1]+1:])\n",
    "            else:\n",
    "                ret[x] = y + str(s[se[i][1]+1:se[i+1][0]])\n",
    "            #print(x, ret[x])\n",
    "    return ret\n",
    "    \n",
    "def f_codes(d, base):\n",
    "    if len(d) == 1:\n",
    "        return unpack(list(d.keys())[0])\n",
    "    d = {k:v for k, v in sorted(list(d.items()), key=sk)}\n",
    "    mins = ''\n",
    "    mins_v = 0\n",
    "    d_keys = list(d.keys())\n",
    "    for i in range(base):\n",
    "        mins += '('+d_keys[i]+')'+str(base-i-1)+''\n",
    "        mins_v += d[d_keys[i]]\n",
    "    d = {k: v for k, v in d.items() if not k in mins}\n",
    "    d[mins] = mins_v\n",
    "    #print(d)\n",
    "    return f_codes(d, base)\n"
   ]
  },
  {
   "cell_type": "code",
   "execution_count": 9,
   "metadata": {},
   "outputs": [
    {
     "data": {
      "text/plain": [
       "{'В': '1111',\n",
       " 'Я': '10111',\n",
       " 'Й': '100111',\n",
       " 'Ё': '111000111',\n",
       " 'Ф': '011000111',\n",
       " 'Э': '01000111',\n",
       " 'Ш': '0000111',\n",
       " 'Р': '1011',\n",
       " 'У': '10011',\n",
       " 'П': '00011',\n",
       " 'О': '101',\n",
       " 'С': '1001',\n",
       " 'Ч': '110001',\n",
       " 'Ю': '1010001',\n",
       " 'Ь': '0010001',\n",
       " 'Д': '00001',\n",
       " 'Н': '1110',\n",
       " 'Т': '0110',\n",
       " 'М': '11010',\n",
       " 'К': '01010',\n",
       " 'З': '110010',\n",
       " 'Б': '010010',\n",
       " 'Г': '100010',\n",
       " 'Ц': '11000010',\n",
       " 'Щ': '01000010',\n",
       " 'Ж': '0000010',\n",
       " 'И': '1100',\n",
       " 'А': '0100',\n",
       " 'Ы': '111000',\n",
       " 'Ъ': '1011000',\n",
       " 'Х': '0011000',\n",
       " 'Л': '01000',\n",
       " 'Е': '0000'}"
      ]
     },
     "execution_count": 9,
     "metadata": {},
     "output_type": "execute_result"
    }
   ],
   "source": [
    "d1 = {'А':15, 'Б':7, 'В':6, 'Г':6, 'Д':5}\n",
    "s = f_codes(d, 2)\n",
    "s"
   ]
  },
  {
   "cell_type": "code",
   "execution_count": null,
   "metadata": {},
   "outputs": [],
   "source": []
  },
  {
   "cell_type": "code",
   "execution_count": null,
   "metadata": {},
   "outputs": [],
   "source": []
  },
  {
   "cell_type": "code",
   "execution_count": null,
   "metadata": {},
   "outputs": [],
   "source": []
  }
 ],
 "metadata": {
  "kernelspec": {
   "display_name": "Python 3",
   "language": "python",
   "name": "python3"
  },
  "language_info": {
   "codemirror_mode": {
    "name": "ipython",
    "version": 3
   },
   "file_extension": ".py",
   "mimetype": "text/x-python",
   "name": "python",
   "nbconvert_exporter": "python",
   "pygments_lexer": "ipython3",
   "version": "3.7.4"
  }
 },
 "nbformat": 4,
 "nbformat_minor": 2
}
